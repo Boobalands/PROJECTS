{
 "cells": [
  {
   "cell_type": "markdown",
   "id": "f23cd813",
   "metadata": {},
   "source": [
    "# GRADIENT BOOSTING REGRESSOR ALGORITHEM"
   ]
  },
  {
   "cell_type": "code",
   "execution_count": 1,
   "id": "c7ac72fa",
   "metadata": {},
   "outputs": [],
   "source": [
    "\n",
    "import pandas as pd\n",
    "import numpy as np\n",
    "import matplotlib.pyplot as plt\n",
    "import seaborn as sns\n"
   ]
  },
  {
   "cell_type": "code",
   "execution_count": 2,
   "id": "efecb829",
   "metadata": {},
   "outputs": [
    {
     "data": {
      "text/html": [
       "<div>\n",
       "<style scoped>\n",
       "    .dataframe tbody tr th:only-of-type {\n",
       "        vertical-align: middle;\n",
       "    }\n",
       "\n",
       "    .dataframe tbody tr th {\n",
       "        vertical-align: top;\n",
       "    }\n",
       "\n",
       "    .dataframe thead th {\n",
       "        text-align: right;\n",
       "    }\n",
       "</style>\n",
       "<table border=\"1\" class=\"dataframe\">\n",
       "  <thead>\n",
       "    <tr style=\"text-align: right;\">\n",
       "      <th></th>\n",
       "      <th>Age</th>\n",
       "      <th>Credit_Score</th>\n",
       "      <th>Account_Balence</th>\n",
       "      <th>Credit_Card_Holter</th>\n",
       "      <th>Dependents</th>\n",
       "      <th>Employment_Type</th>\n",
       "      <th>Applicant_Income</th>\n",
       "      <th>Coapplicant_Income</th>\n",
       "      <th>Loan_Status</th>\n",
       "      <th>Education_Status</th>\n",
       "      <th>Fidelity_Scores</th>\n",
       "    </tr>\n",
       "  </thead>\n",
       "  <tbody>\n",
       "    <tr>\n",
       "      <th>0</th>\n",
       "      <td>86</td>\n",
       "      <td>451</td>\n",
       "      <td>825749</td>\n",
       "      <td>1</td>\n",
       "      <td>1</td>\n",
       "      <td>Employed</td>\n",
       "      <td>128630</td>\n",
       "      <td>81915</td>\n",
       "      <td>0</td>\n",
       "      <td>Graduated</td>\n",
       "      <td>51</td>\n",
       "    </tr>\n",
       "    <tr>\n",
       "      <th>1</th>\n",
       "      <td>64</td>\n",
       "      <td>465</td>\n",
       "      <td>140667</td>\n",
       "      <td>0</td>\n",
       "      <td>0</td>\n",
       "      <td>Employed</td>\n",
       "      <td>75633</td>\n",
       "      <td>78479</td>\n",
       "      <td>1</td>\n",
       "      <td>Graduated</td>\n",
       "      <td>59</td>\n",
       "    </tr>\n",
       "    <tr>\n",
       "      <th>2</th>\n",
       "      <td>65</td>\n",
       "      <td>409</td>\n",
       "      <td>716824</td>\n",
       "      <td>0</td>\n",
       "      <td>2</td>\n",
       "      <td>Self_Employed</td>\n",
       "      <td>178202</td>\n",
       "      <td>174249</td>\n",
       "      <td>0</td>\n",
       "      <td>Non-Graduated</td>\n",
       "      <td>99</td>\n",
       "    </tr>\n",
       "    <tr>\n",
       "      <th>3</th>\n",
       "      <td>57</td>\n",
       "      <td>446</td>\n",
       "      <td>323539</td>\n",
       "      <td>0</td>\n",
       "      <td>2</td>\n",
       "      <td>Employed</td>\n",
       "      <td>180802</td>\n",
       "      <td>96209</td>\n",
       "      <td>1</td>\n",
       "      <td>Non-Graduated</td>\n",
       "      <td>28</td>\n",
       "    </tr>\n",
       "    <tr>\n",
       "      <th>4</th>\n",
       "      <td>67</td>\n",
       "      <td>475</td>\n",
       "      <td>973045</td>\n",
       "      <td>1</td>\n",
       "      <td>2</td>\n",
       "      <td>Employed</td>\n",
       "      <td>80110</td>\n",
       "      <td>25057</td>\n",
       "      <td>1</td>\n",
       "      <td>Non-Graduated</td>\n",
       "      <td>23</td>\n",
       "    </tr>\n",
       "  </tbody>\n",
       "</table>\n",
       "</div>"
      ],
      "text/plain": [
       "   Age  Credit_Score  Account_Balence  Credit_Card_Holter  Dependents  \\\n",
       "0   86           451           825749                   1           1   \n",
       "1   64           465           140667                   0           0   \n",
       "2   65           409           716824                   0           2   \n",
       "3   57           446           323539                   0           2   \n",
       "4   67           475           973045                   1           2   \n",
       "\n",
       "  Employment_Type  Applicant_Income  Coapplicant_Income  Loan_Status  \\\n",
       "0        Employed            128630               81915            0   \n",
       "1        Employed             75633               78479            1   \n",
       "2   Self_Employed            178202              174249            0   \n",
       "3        Employed            180802               96209            1   \n",
       "4        Employed             80110               25057            1   \n",
       "\n",
       "  Education_Status  Fidelity_Scores  \n",
       "0        Graduated               51  \n",
       "1        Graduated               59  \n",
       "2    Non-Graduated               99  \n",
       "3    Non-Graduated               28  \n",
       "4    Non-Graduated               23  "
      ]
     },
     "execution_count": 2,
     "metadata": {},
     "output_type": "execute_result"
    }
   ],
   "source": [
    "\n",
    "df=pd.read_csv('DATASET.csv')\n",
    "df.head()\n"
   ]
  },
  {
   "cell_type": "code",
   "execution_count": 3,
   "id": "6c508c3e-5e76-4d71-89b2-670fe0e5a74a",
   "metadata": {},
   "outputs": [
    {
     "data": {
      "text/html": [
       "<div>\n",
       "<style scoped>\n",
       "    .dataframe tbody tr th:only-of-type {\n",
       "        vertical-align: middle;\n",
       "    }\n",
       "\n",
       "    .dataframe tbody tr th {\n",
       "        vertical-align: top;\n",
       "    }\n",
       "\n",
       "    .dataframe thead th {\n",
       "        text-align: right;\n",
       "    }\n",
       "</style>\n",
       "<table border=\"1\" class=\"dataframe\">\n",
       "  <thead>\n",
       "    <tr style=\"text-align: right;\">\n",
       "      <th></th>\n",
       "      <th>Age</th>\n",
       "      <th>Credit_Score</th>\n",
       "      <th>Account_Balence</th>\n",
       "      <th>Credit_Card_Holter</th>\n",
       "      <th>Dependents</th>\n",
       "      <th>Employment_Type</th>\n",
       "      <th>Applicant_Income</th>\n",
       "      <th>Coapplicant_Income</th>\n",
       "      <th>Loan_Status</th>\n",
       "      <th>Education_Status</th>\n",
       "      <th>Fidelity_Scores</th>\n",
       "    </tr>\n",
       "  </thead>\n",
       "  <tbody>\n",
       "    <tr>\n",
       "      <th>4994</th>\n",
       "      <td>38</td>\n",
       "      <td>445</td>\n",
       "      <td>560452</td>\n",
       "      <td>0</td>\n",
       "      <td>2</td>\n",
       "      <td>Self_Employed</td>\n",
       "      <td>37339</td>\n",
       "      <td>124773</td>\n",
       "      <td>1</td>\n",
       "      <td>Graduated</td>\n",
       "      <td>83</td>\n",
       "    </tr>\n",
       "    <tr>\n",
       "      <th>4995</th>\n",
       "      <td>26</td>\n",
       "      <td>453</td>\n",
       "      <td>471969</td>\n",
       "      <td>1</td>\n",
       "      <td>2</td>\n",
       "      <td>Employed</td>\n",
       "      <td>143643</td>\n",
       "      <td>96357</td>\n",
       "      <td>0</td>\n",
       "      <td>Graduated</td>\n",
       "      <td>95</td>\n",
       "    </tr>\n",
       "    <tr>\n",
       "      <th>4996</th>\n",
       "      <td>77</td>\n",
       "      <td>495</td>\n",
       "      <td>359288</td>\n",
       "      <td>1</td>\n",
       "      <td>2</td>\n",
       "      <td>Employed</td>\n",
       "      <td>10643</td>\n",
       "      <td>97925</td>\n",
       "      <td>1</td>\n",
       "      <td>Graduated</td>\n",
       "      <td>29</td>\n",
       "    </tr>\n",
       "    <tr>\n",
       "      <th>4997</th>\n",
       "      <td>59</td>\n",
       "      <td>447</td>\n",
       "      <td>504988</td>\n",
       "      <td>1</td>\n",
       "      <td>1</td>\n",
       "      <td>Employed</td>\n",
       "      <td>27886</td>\n",
       "      <td>101742</td>\n",
       "      <td>0</td>\n",
       "      <td>Graduated</td>\n",
       "      <td>53</td>\n",
       "    </tr>\n",
       "    <tr>\n",
       "      <th>4998</th>\n",
       "      <td>31</td>\n",
       "      <td>436</td>\n",
       "      <td>971961</td>\n",
       "      <td>1</td>\n",
       "      <td>1</td>\n",
       "      <td>Self_Employed</td>\n",
       "      <td>21162</td>\n",
       "      <td>22299</td>\n",
       "      <td>0</td>\n",
       "      <td>Non-Graduated</td>\n",
       "      <td>24</td>\n",
       "    </tr>\n",
       "  </tbody>\n",
       "</table>\n",
       "</div>"
      ],
      "text/plain": [
       "      Age  Credit_Score  Account_Balence  Credit_Card_Holter  Dependents  \\\n",
       "4994   38           445           560452                   0           2   \n",
       "4995   26           453           471969                   1           2   \n",
       "4996   77           495           359288                   1           2   \n",
       "4997   59           447           504988                   1           1   \n",
       "4998   31           436           971961                   1           1   \n",
       "\n",
       "     Employment_Type  Applicant_Income  Coapplicant_Income  Loan_Status  \\\n",
       "4994   Self_Employed             37339              124773            1   \n",
       "4995        Employed            143643               96357            0   \n",
       "4996        Employed             10643               97925            1   \n",
       "4997        Employed             27886              101742            0   \n",
       "4998   Self_Employed             21162               22299            0   \n",
       "\n",
       "     Education_Status  Fidelity_Scores  \n",
       "4994        Graduated               83  \n",
       "4995        Graduated               95  \n",
       "4996        Graduated               29  \n",
       "4997        Graduated               53  \n",
       "4998    Non-Graduated               24  "
      ]
     },
     "execution_count": 3,
     "metadata": {},
     "output_type": "execute_result"
    }
   ],
   "source": [
    "\n",
    "df.tail()\n"
   ]
  },
  {
   "cell_type": "code",
   "execution_count": 4,
   "id": "7a0f30c1",
   "metadata": {},
   "outputs": [
    {
     "data": {
      "text/plain": [
       "Index(['Age', 'Credit_Score', 'Account_Balence', 'Credit_Card_Holter',\n",
       "       'Dependents', 'Employment_Type', 'Applicant_Income',\n",
       "       'Coapplicant_Income', 'Loan_Status', 'Education_Status',\n",
       "       'Fidelity_Scores'],\n",
       "      dtype='object')"
      ]
     },
     "execution_count": 4,
     "metadata": {},
     "output_type": "execute_result"
    }
   ],
   "source": [
    "\n",
    "df.columns\n"
   ]
  },
  {
   "cell_type": "code",
   "execution_count": 5,
   "id": "3f36a6e4",
   "metadata": {},
   "outputs": [],
   "source": [
    "\n",
    "X = df.drop(labels='Fidelity_Scores', axis=1)\n",
    "y = df.loc[:,'Fidelity_Scores']\n"
   ]
  },
  {
   "cell_type": "code",
   "execution_count": 6,
   "id": "4bb6edac",
   "metadata": {},
   "outputs": [
    {
     "name": "stdout",
     "output_type": "stream",
     "text": [
      "NUMBER OF TRAIN DATASET    :  3999\n",
      "NUMBER OF TEST DATASET      :  1000\n",
      "TOTAL NUMBER OF DATASET    :  4999\n"
     ]
    }
   ],
   "source": [
    "\n",
    "from sklearn.model_selection import train_test_split\n",
    "\n",
    "X_train, X_test, y_train, y_test = train_test_split(X, y, test_size=0.2)\n",
    "\n",
    "print(\"NUMBER OF TRAIN DATASET    : \", len(X_train))\n",
    "print(\"NUMBER OF TEST DATASET      : \", len(X_test))\n",
    "print(\"TOTAL NUMBER OF DATASET    : \", len(X_train)+len(X_test))\n"
   ]
  },
  {
   "cell_type": "code",
   "execution_count": 7,
   "id": "cbb02177",
   "metadata": {},
   "outputs": [
    {
     "name": "stdout",
     "output_type": "stream",
     "text": [
      "NUMBER OF TRAIN DATASET    :  3999\n",
      "NUMBER OF TEST DATASET      :  1000\n",
      "TOTAL NUMBER OF DATASET    :  4999\n"
     ]
    }
   ],
   "source": [
    "\n",
    "print(\"NUMBER OF TRAIN DATASET    : \", len(y_train))\n",
    "print(\"NUMBER OF TEST DATASET      : \", len(y_test))\n",
    "print(\"TOTAL NUMBER OF DATASET    : \", len(y_train)+len(y_test))\n"
   ]
  },
  {
   "cell_type": "code",
   "execution_count": 8,
   "id": "0291d9e7-2fb0-40a2-8cc6-154193c2792f",
   "metadata": {},
   "outputs": [],
   "source": [
    "\n",
    "numeric_features = X.select_dtypes(include=['int64', 'float64']).columns\n",
    "categorical_features = X.select_dtypes(include=['object']).columns\n"
   ]
  },
  {
   "cell_type": "code",
   "execution_count": 9,
   "id": "af4bde49-a6fa-4aef-ad6b-120f212225b3",
   "metadata": {},
   "outputs": [],
   "source": [
    "\n",
    "from sklearn.impute import SimpleImputer\n",
    "from sklearn.preprocessing import StandardScaler\n",
    "from sklearn.pipeline import Pipeline\n"
   ]
  },
  {
   "cell_type": "code",
   "execution_count": 10,
   "id": "78e5c97c-9ccc-47b3-a68d-65d1d92a0a71",
   "metadata": {},
   "outputs": [],
   "source": [
    "\n",
    "numeric_transformer = Pipeline(steps=[\n",
    "    ('imputer', SimpleImputer(strategy='mean')),\n",
    "    ('scaler', StandardScaler())])\n"
   ]
  },
  {
   "cell_type": "code",
   "execution_count": 11,
   "id": "a2e16738-769e-421f-be9d-5a3ea9ee380b",
   "metadata": {},
   "outputs": [],
   "source": [
    "\n",
    "from sklearn.preprocessing import OneHotEncoder\n"
   ]
  },
  {
   "cell_type": "code",
   "execution_count": 12,
   "id": "f21a16a1-47b6-498c-886d-dec1a75b8f9a",
   "metadata": {},
   "outputs": [],
   "source": [
    "\n",
    "categorical_transformer = Pipeline(steps=[\n",
    "    ('imputer', SimpleImputer(strategy='most_frequent')),\n",
    "    ('onehot', OneHotEncoder(handle_unknown='ignore'))])\n"
   ]
  },
  {
   "cell_type": "code",
   "execution_count": 13,
   "id": "c96d80a8-686d-467e-9657-00a6901d4376",
   "metadata": {},
   "outputs": [],
   "source": [
    "\n",
    "from sklearn.compose import ColumnTransformer\n"
   ]
  },
  {
   "cell_type": "code",
   "execution_count": 14,
   "id": "f4d2c0b7-db71-49ca-a615-58980a3485df",
   "metadata": {},
   "outputs": [],
   "source": [
    "\n",
    "preprocessor = ColumnTransformer(\n",
    "    transformers=[\n",
    "        ('num', numeric_transformer, numeric_features),\n",
    "        ('cat', categorical_transformer, categorical_features)])\n"
   ]
  },
  {
   "cell_type": "code",
   "execution_count": 15,
   "id": "9b6d1238-b76f-4462-acf4-1974fd265774",
   "metadata": {},
   "outputs": [],
   "source": [
    "\n",
    "from sklearn.pipeline import Pipeline\n",
    "from sklearn.ensemble import GradientBoostingRegressor"
   ]
  },
  {
   "cell_type": "code",
   "execution_count": 16,
   "id": "a0f4166e-7922-450b-b6f3-e9302ce868c5",
   "metadata": {},
   "outputs": [],
   "source": [
    "\n",
    "pipeline = Pipeline([\n",
    "    ('preprocessor', preprocessor),\n",
    "    ('regressor', GradientBoostingRegressor())])\n"
   ]
  },
  {
   "cell_type": "code",
   "execution_count": 17,
   "id": "133b37f6-4fa8-45a1-84e0-3964d5d77d1c",
   "metadata": {},
   "outputs": [],
   "source": [
    "\n",
    "param_grid = {\n",
    "    'regressor__n_estimators': [100, 200, 300],\n",
    "    'regressor__learning_rate': [0.01, 0.05, 0.1],\n",
    "    'regressor__max_depth': [3, 4, 5],\n",
    "    'regressor__min_samples_split': [2, 5, 10],\n",
    "    'regressor__min_samples_leaf': [1, 2, 4],\n",
    "    'regressor__subsample': [0.6, 0.8, 1.0]\n",
    "}\n"
   ]
  },
  {
   "cell_type": "code",
   "execution_count": 18,
   "id": "d751efe5-b0c8-4c43-bae0-5e84a58b0246",
   "metadata": {},
   "outputs": [],
   "source": [
    "\n",
    "from sklearn.model_selection import GridSearchCV\n"
   ]
  },
  {
   "cell_type": "code",
   "execution_count": 19,
   "id": "389c0898-0172-45f5-b204-928f6b61fe7f",
   "metadata": {},
   "outputs": [
    {
     "name": "stdout",
     "output_type": "stream",
     "text": [
      "Fitting 5 folds for each of 729 candidates, totalling 3645 fits\n"
     ]
    },
    {
     "data": {
      "text/html": [
       "<style>#sk-container-id-1 {color: black;background-color: white;}#sk-container-id-1 pre{padding: 0;}#sk-container-id-1 div.sk-toggleable {background-color: white;}#sk-container-id-1 label.sk-toggleable__label {cursor: pointer;display: block;width: 100%;margin-bottom: 0;padding: 0.3em;box-sizing: border-box;text-align: center;}#sk-container-id-1 label.sk-toggleable__label-arrow:before {content: \"▸\";float: left;margin-right: 0.25em;color: #696969;}#sk-container-id-1 label.sk-toggleable__label-arrow:hover:before {color: black;}#sk-container-id-1 div.sk-estimator:hover label.sk-toggleable__label-arrow:before {color: black;}#sk-container-id-1 div.sk-toggleable__content {max-height: 0;max-width: 0;overflow: hidden;text-align: left;background-color: #f0f8ff;}#sk-container-id-1 div.sk-toggleable__content pre {margin: 0.2em;color: black;border-radius: 0.25em;background-color: #f0f8ff;}#sk-container-id-1 input.sk-toggleable__control:checked~div.sk-toggleable__content {max-height: 200px;max-width: 100%;overflow: auto;}#sk-container-id-1 input.sk-toggleable__control:checked~label.sk-toggleable__label-arrow:before {content: \"▾\";}#sk-container-id-1 div.sk-estimator input.sk-toggleable__control:checked~label.sk-toggleable__label {background-color: #d4ebff;}#sk-container-id-1 div.sk-label input.sk-toggleable__control:checked~label.sk-toggleable__label {background-color: #d4ebff;}#sk-container-id-1 input.sk-hidden--visually {border: 0;clip: rect(1px 1px 1px 1px);clip: rect(1px, 1px, 1px, 1px);height: 1px;margin: -1px;overflow: hidden;padding: 0;position: absolute;width: 1px;}#sk-container-id-1 div.sk-estimator {font-family: monospace;background-color: #f0f8ff;border: 1px dotted black;border-radius: 0.25em;box-sizing: border-box;margin-bottom: 0.5em;}#sk-container-id-1 div.sk-estimator:hover {background-color: #d4ebff;}#sk-container-id-1 div.sk-parallel-item::after {content: \"\";width: 100%;border-bottom: 1px solid gray;flex-grow: 1;}#sk-container-id-1 div.sk-label:hover label.sk-toggleable__label {background-color: #d4ebff;}#sk-container-id-1 div.sk-serial::before {content: \"\";position: absolute;border-left: 1px solid gray;box-sizing: border-box;top: 0;bottom: 0;left: 50%;z-index: 0;}#sk-container-id-1 div.sk-serial {display: flex;flex-direction: column;align-items: center;background-color: white;padding-right: 0.2em;padding-left: 0.2em;position: relative;}#sk-container-id-1 div.sk-item {position: relative;z-index: 1;}#sk-container-id-1 div.sk-parallel {display: flex;align-items: stretch;justify-content: center;background-color: white;position: relative;}#sk-container-id-1 div.sk-item::before, #sk-container-id-1 div.sk-parallel-item::before {content: \"\";position: absolute;border-left: 1px solid gray;box-sizing: border-box;top: 0;bottom: 0;left: 50%;z-index: -1;}#sk-container-id-1 div.sk-parallel-item {display: flex;flex-direction: column;z-index: 1;position: relative;background-color: white;}#sk-container-id-1 div.sk-parallel-item:first-child::after {align-self: flex-end;width: 50%;}#sk-container-id-1 div.sk-parallel-item:last-child::after {align-self: flex-start;width: 50%;}#sk-container-id-1 div.sk-parallel-item:only-child::after {width: 0;}#sk-container-id-1 div.sk-dashed-wrapped {border: 1px dashed gray;margin: 0 0.4em 0.5em 0.4em;box-sizing: border-box;padding-bottom: 0.4em;background-color: white;}#sk-container-id-1 div.sk-label label {font-family: monospace;font-weight: bold;display: inline-block;line-height: 1.2em;}#sk-container-id-1 div.sk-label-container {text-align: center;}#sk-container-id-1 div.sk-container {/* jupyter's `normalize.less` sets `[hidden] { display: none; }` but bootstrap.min.css set `[hidden] { display: none !important; }` so we also need the `!important` here to be able to override the default hidden behavior on the sphinx rendered scikit-learn.org. See: https://github.com/scikit-learn/scikit-learn/issues/21755 */display: inline-block !important;position: relative;}#sk-container-id-1 div.sk-text-repr-fallback {display: none;}</style><div id=\"sk-container-id-1\" class=\"sk-top-container\"><div class=\"sk-text-repr-fallback\"><pre>GridSearchCV(cv=5,\n",
       "             estimator=Pipeline(steps=[(&#x27;preprocessor&#x27;,\n",
       "                                        ColumnTransformer(transformers=[(&#x27;num&#x27;,\n",
       "                                                                         Pipeline(steps=[(&#x27;imputer&#x27;,\n",
       "                                                                                          SimpleImputer()),\n",
       "                                                                                         (&#x27;scaler&#x27;,\n",
       "                                                                                          StandardScaler())]),\n",
       "                                                                         Index([&#x27;Age&#x27;, &#x27;Credit_Score&#x27;, &#x27;Account_Balence&#x27;, &#x27;Credit_Card_Holter&#x27;,\n",
       "       &#x27;Dependents&#x27;, &#x27;Applicant_Income&#x27;, &#x27;Coapplicant_Income&#x27;, &#x27;Loan_Status&#x27;],\n",
       "      dtype=&#x27;object&#x27;)),\n",
       "                                                                        (&#x27;cat&#x27;,\n",
       "                                                                         Pipeline(steps=[(&#x27;...\n",
       "                                                                         Index([&#x27;Employment_Type&#x27;, &#x27;Education_Status&#x27;], dtype=&#x27;object&#x27;))])),\n",
       "                                       (&#x27;regressor&#x27;,\n",
       "                                        GradientBoostingRegressor())]),\n",
       "             n_jobs=-1,\n",
       "             param_grid={&#x27;regressor__learning_rate&#x27;: [0.01, 0.05, 0.1],\n",
       "                         &#x27;regressor__max_depth&#x27;: [3, 4, 5],\n",
       "                         &#x27;regressor__min_samples_leaf&#x27;: [1, 2, 4],\n",
       "                         &#x27;regressor__min_samples_split&#x27;: [2, 5, 10],\n",
       "                         &#x27;regressor__n_estimators&#x27;: [100, 200, 300],\n",
       "                         &#x27;regressor__subsample&#x27;: [0.6, 0.8, 1.0]},\n",
       "             verbose=2)</pre><b>In a Jupyter environment, please rerun this cell to show the HTML representation or trust the notebook. <br />On GitHub, the HTML representation is unable to render, please try loading this page with nbviewer.org.</b></div><div class=\"sk-container\" hidden><div class=\"sk-item sk-dashed-wrapped\"><div class=\"sk-label-container\"><div class=\"sk-label sk-toggleable\"><input class=\"sk-toggleable__control sk-hidden--visually\" id=\"sk-estimator-id-1\" type=\"checkbox\" ><label for=\"sk-estimator-id-1\" class=\"sk-toggleable__label sk-toggleable__label-arrow\">GridSearchCV</label><div class=\"sk-toggleable__content\"><pre>GridSearchCV(cv=5,\n",
       "             estimator=Pipeline(steps=[(&#x27;preprocessor&#x27;,\n",
       "                                        ColumnTransformer(transformers=[(&#x27;num&#x27;,\n",
       "                                                                         Pipeline(steps=[(&#x27;imputer&#x27;,\n",
       "                                                                                          SimpleImputer()),\n",
       "                                                                                         (&#x27;scaler&#x27;,\n",
       "                                                                                          StandardScaler())]),\n",
       "                                                                         Index([&#x27;Age&#x27;, &#x27;Credit_Score&#x27;, &#x27;Account_Balence&#x27;, &#x27;Credit_Card_Holter&#x27;,\n",
       "       &#x27;Dependents&#x27;, &#x27;Applicant_Income&#x27;, &#x27;Coapplicant_Income&#x27;, &#x27;Loan_Status&#x27;],\n",
       "      dtype=&#x27;object&#x27;)),\n",
       "                                                                        (&#x27;cat&#x27;,\n",
       "                                                                         Pipeline(steps=[(&#x27;...\n",
       "                                                                         Index([&#x27;Employment_Type&#x27;, &#x27;Education_Status&#x27;], dtype=&#x27;object&#x27;))])),\n",
       "                                       (&#x27;regressor&#x27;,\n",
       "                                        GradientBoostingRegressor())]),\n",
       "             n_jobs=-1,\n",
       "             param_grid={&#x27;regressor__learning_rate&#x27;: [0.01, 0.05, 0.1],\n",
       "                         &#x27;regressor__max_depth&#x27;: [3, 4, 5],\n",
       "                         &#x27;regressor__min_samples_leaf&#x27;: [1, 2, 4],\n",
       "                         &#x27;regressor__min_samples_split&#x27;: [2, 5, 10],\n",
       "                         &#x27;regressor__n_estimators&#x27;: [100, 200, 300],\n",
       "                         &#x27;regressor__subsample&#x27;: [0.6, 0.8, 1.0]},\n",
       "             verbose=2)</pre></div></div></div><div class=\"sk-parallel\"><div class=\"sk-parallel-item\"><div class=\"sk-item\"><div class=\"sk-label-container\"><div class=\"sk-label sk-toggleable\"><input class=\"sk-toggleable__control sk-hidden--visually\" id=\"sk-estimator-id-2\" type=\"checkbox\" ><label for=\"sk-estimator-id-2\" class=\"sk-toggleable__label sk-toggleable__label-arrow\">estimator: Pipeline</label><div class=\"sk-toggleable__content\"><pre>Pipeline(steps=[(&#x27;preprocessor&#x27;,\n",
       "                 ColumnTransformer(transformers=[(&#x27;num&#x27;,\n",
       "                                                  Pipeline(steps=[(&#x27;imputer&#x27;,\n",
       "                                                                   SimpleImputer()),\n",
       "                                                                  (&#x27;scaler&#x27;,\n",
       "                                                                   StandardScaler())]),\n",
       "                                                  Index([&#x27;Age&#x27;, &#x27;Credit_Score&#x27;, &#x27;Account_Balence&#x27;, &#x27;Credit_Card_Holter&#x27;,\n",
       "       &#x27;Dependents&#x27;, &#x27;Applicant_Income&#x27;, &#x27;Coapplicant_Income&#x27;, &#x27;Loan_Status&#x27;],\n",
       "      dtype=&#x27;object&#x27;)),\n",
       "                                                 (&#x27;cat&#x27;,\n",
       "                                                  Pipeline(steps=[(&#x27;imputer&#x27;,\n",
       "                                                                   SimpleImputer(strategy=&#x27;most_frequent&#x27;)),\n",
       "                                                                  (&#x27;onehot&#x27;,\n",
       "                                                                   OneHotEncoder(handle_unknown=&#x27;ignore&#x27;))]),\n",
       "                                                  Index([&#x27;Employment_Type&#x27;, &#x27;Education_Status&#x27;], dtype=&#x27;object&#x27;))])),\n",
       "                (&#x27;regressor&#x27;, GradientBoostingRegressor())])</pre></div></div></div><div class=\"sk-serial\"><div class=\"sk-item\"><div class=\"sk-serial\"><div class=\"sk-item sk-dashed-wrapped\"><div class=\"sk-label-container\"><div class=\"sk-label sk-toggleable\"><input class=\"sk-toggleable__control sk-hidden--visually\" id=\"sk-estimator-id-3\" type=\"checkbox\" ><label for=\"sk-estimator-id-3\" class=\"sk-toggleable__label sk-toggleable__label-arrow\">preprocessor: ColumnTransformer</label><div class=\"sk-toggleable__content\"><pre>ColumnTransformer(transformers=[(&#x27;num&#x27;,\n",
       "                                 Pipeline(steps=[(&#x27;imputer&#x27;, SimpleImputer()),\n",
       "                                                 (&#x27;scaler&#x27;, StandardScaler())]),\n",
       "                                 Index([&#x27;Age&#x27;, &#x27;Credit_Score&#x27;, &#x27;Account_Balence&#x27;, &#x27;Credit_Card_Holter&#x27;,\n",
       "       &#x27;Dependents&#x27;, &#x27;Applicant_Income&#x27;, &#x27;Coapplicant_Income&#x27;, &#x27;Loan_Status&#x27;],\n",
       "      dtype=&#x27;object&#x27;)),\n",
       "                                (&#x27;cat&#x27;,\n",
       "                                 Pipeline(steps=[(&#x27;imputer&#x27;,\n",
       "                                                  SimpleImputer(strategy=&#x27;most_frequent&#x27;)),\n",
       "                                                 (&#x27;onehot&#x27;,\n",
       "                                                  OneHotEncoder(handle_unknown=&#x27;ignore&#x27;))]),\n",
       "                                 Index([&#x27;Employment_Type&#x27;, &#x27;Education_Status&#x27;], dtype=&#x27;object&#x27;))])</pre></div></div></div><div class=\"sk-parallel\"><div class=\"sk-parallel-item\"><div class=\"sk-item\"><div class=\"sk-label-container\"><div class=\"sk-label sk-toggleable\"><input class=\"sk-toggleable__control sk-hidden--visually\" id=\"sk-estimator-id-4\" type=\"checkbox\" ><label for=\"sk-estimator-id-4\" class=\"sk-toggleable__label sk-toggleable__label-arrow\">num</label><div class=\"sk-toggleable__content\"><pre>Index([&#x27;Age&#x27;, &#x27;Credit_Score&#x27;, &#x27;Account_Balence&#x27;, &#x27;Credit_Card_Holter&#x27;,\n",
       "       &#x27;Dependents&#x27;, &#x27;Applicant_Income&#x27;, &#x27;Coapplicant_Income&#x27;, &#x27;Loan_Status&#x27;],\n",
       "      dtype=&#x27;object&#x27;)</pre></div></div></div><div class=\"sk-serial\"><div class=\"sk-item\"><div class=\"sk-serial\"><div class=\"sk-item\"><div class=\"sk-estimator sk-toggleable\"><input class=\"sk-toggleable__control sk-hidden--visually\" id=\"sk-estimator-id-5\" type=\"checkbox\" ><label for=\"sk-estimator-id-5\" class=\"sk-toggleable__label sk-toggleable__label-arrow\">SimpleImputer</label><div class=\"sk-toggleable__content\"><pre>SimpleImputer()</pre></div></div></div><div class=\"sk-item\"><div class=\"sk-estimator sk-toggleable\"><input class=\"sk-toggleable__control sk-hidden--visually\" id=\"sk-estimator-id-6\" type=\"checkbox\" ><label for=\"sk-estimator-id-6\" class=\"sk-toggleable__label sk-toggleable__label-arrow\">StandardScaler</label><div class=\"sk-toggleable__content\"><pre>StandardScaler()</pre></div></div></div></div></div></div></div></div><div class=\"sk-parallel-item\"><div class=\"sk-item\"><div class=\"sk-label-container\"><div class=\"sk-label sk-toggleable\"><input class=\"sk-toggleable__control sk-hidden--visually\" id=\"sk-estimator-id-7\" type=\"checkbox\" ><label for=\"sk-estimator-id-7\" class=\"sk-toggleable__label sk-toggleable__label-arrow\">cat</label><div class=\"sk-toggleable__content\"><pre>Index([&#x27;Employment_Type&#x27;, &#x27;Education_Status&#x27;], dtype=&#x27;object&#x27;)</pre></div></div></div><div class=\"sk-serial\"><div class=\"sk-item\"><div class=\"sk-serial\"><div class=\"sk-item\"><div class=\"sk-estimator sk-toggleable\"><input class=\"sk-toggleable__control sk-hidden--visually\" id=\"sk-estimator-id-8\" type=\"checkbox\" ><label for=\"sk-estimator-id-8\" class=\"sk-toggleable__label sk-toggleable__label-arrow\">SimpleImputer</label><div class=\"sk-toggleable__content\"><pre>SimpleImputer(strategy=&#x27;most_frequent&#x27;)</pre></div></div></div><div class=\"sk-item\"><div class=\"sk-estimator sk-toggleable\"><input class=\"sk-toggleable__control sk-hidden--visually\" id=\"sk-estimator-id-9\" type=\"checkbox\" ><label for=\"sk-estimator-id-9\" class=\"sk-toggleable__label sk-toggleable__label-arrow\">OneHotEncoder</label><div class=\"sk-toggleable__content\"><pre>OneHotEncoder(handle_unknown=&#x27;ignore&#x27;)</pre></div></div></div></div></div></div></div></div></div></div><div class=\"sk-item\"><div class=\"sk-estimator sk-toggleable\"><input class=\"sk-toggleable__control sk-hidden--visually\" id=\"sk-estimator-id-10\" type=\"checkbox\" ><label for=\"sk-estimator-id-10\" class=\"sk-toggleable__label sk-toggleable__label-arrow\">GradientBoostingRegressor</label><div class=\"sk-toggleable__content\"><pre>GradientBoostingRegressor()</pre></div></div></div></div></div></div></div></div></div></div></div></div>"
      ],
      "text/plain": [
       "GridSearchCV(cv=5,\n",
       "             estimator=Pipeline(steps=[('preprocessor',\n",
       "                                        ColumnTransformer(transformers=[('num',\n",
       "                                                                         Pipeline(steps=[('imputer',\n",
       "                                                                                          SimpleImputer()),\n",
       "                                                                                         ('scaler',\n",
       "                                                                                          StandardScaler())]),\n",
       "                                                                         Index(['Age', 'Credit_Score', 'Account_Balence', 'Credit_Card_Holter',\n",
       "       'Dependents', 'Applicant_Income', 'Coapplicant_Income', 'Loan_Status'],\n",
       "      dtype='object')),\n",
       "                                                                        ('cat',\n",
       "                                                                         Pipeline(steps=[('...\n",
       "                                                                         Index(['Employment_Type', 'Education_Status'], dtype='object'))])),\n",
       "                                       ('regressor',\n",
       "                                        GradientBoostingRegressor())]),\n",
       "             n_jobs=-1,\n",
       "             param_grid={'regressor__learning_rate': [0.01, 0.05, 0.1],\n",
       "                         'regressor__max_depth': [3, 4, 5],\n",
       "                         'regressor__min_samples_leaf': [1, 2, 4],\n",
       "                         'regressor__min_samples_split': [2, 5, 10],\n",
       "                         'regressor__n_estimators': [100, 200, 300],\n",
       "                         'regressor__subsample': [0.6, 0.8, 1.0]},\n",
       "             verbose=2)"
      ]
     },
     "execution_count": 19,
     "metadata": {},
     "output_type": "execute_result"
    }
   ],
   "source": [
    "\n",
    "grid_search = GridSearchCV(pipeline, param_grid, cv=5, n_jobs=-1, verbose=2)\n",
    "grid_search.fit(X_train, y_train) \n"
   ]
  },
  {
   "cell_type": "code",
   "execution_count": 20,
   "id": "d7c4da55-45d1-4532-a813-2e8b641bf251",
   "metadata": {},
   "outputs": [
    {
     "name": "stdout",
     "output_type": "stream",
     "text": [
      "Best parameters: {'regressor__learning_rate': 0.01, 'regressor__max_depth': 4, 'regressor__min_samples_leaf': 2, 'regressor__min_samples_split': 2, 'regressor__n_estimators': 100, 'regressor__subsample': 0.6}\n"
     ]
    }
   ],
   "source": [
    "\n",
    "print(\"Best parameters:\", grid_search.best_params_)\n"
   ]
  },
  {
   "cell_type": "code",
   "execution_count": 21,
   "id": "ef016a28-d2e9-4630-b257-c27d4e5e3544",
   "metadata": {},
   "outputs": [],
   "source": [
    "\n",
    "best_pipeline = grid_search.best_estimator_\n"
   ]
  },
  {
   "cell_type": "code",
   "execution_count": 22,
   "id": "448f85ab-77f9-4650-bd6b-e4b19d730428",
   "metadata": {},
   "outputs": [],
   "source": [
    "\n",
    "predicted = best_pipeline.predict(X_test)\n"
   ]
  },
  {
   "cell_type": "code",
   "execution_count": 23,
   "id": "7c57be8c",
   "metadata": {},
   "outputs": [
    {
     "name": "stdout",
     "output_type": "stream",
     "text": [
      "MEAN RAND SCOORE OF GRADIENT BOOSTING REGRESSOR ALGORITHEM 98.75095095095095\n"
     ]
    },
    {
     "name": "stderr",
     "output_type": "stream",
     "text": [
      "C:\\Users\\SPIRO-PYTHON\\anaconda3\\envs\\env\\Lib\\site-packages\\sklearn\\metrics\\cluster\\_supervised.py:64: UserWarning: Clustering metrics expects discrete values but received multiclass values for label, and continuous values for target\n",
      "  warnings.warn(msg, UserWarning)\n"
     ]
    }
   ],
   "source": [
    "\n",
    "from sklearn.metrics import rand_score\n",
    "RS = rand_score(y_test, predicted)\n",
    "print(\"MEAN RAND SCOORE OF GRADIENT BOOSTING REGRESSOR ALGORITHEM\",RS*100)\n"
   ]
  },
  {
   "cell_type": "code",
   "execution_count": 24,
   "id": "9f7a0bf9",
   "metadata": {},
   "outputs": [
    {
     "name": "stdout",
     "output_type": "stream",
     "text": [
      "MEAN R2 SCOORE OF GRADIENT BOOSTING REGRESSOR ALGORITHEM -0.36966092349943747\n"
     ]
    }
   ],
   "source": [
    "\n",
    "from sklearn.metrics import r2_score\n",
    "R2 = r2_score(y_test, predicted)\n",
    "print(\"MEAN R2 SCOORE OF GRADIENT BOOSTING REGRESSOR ALGORITHEM\",R2*100)\n"
   ]
  },
  {
   "cell_type": "code",
   "execution_count": 25,
   "id": "b09c5365",
   "metadata": {},
   "outputs": [
    {
     "name": "stdout",
     "output_type": "stream",
     "text": [
      "MEAN SQUARE ERROR OF GRADIENT BOOSTING REGRESSOR ALGORITHEM 528.2862313600618\n"
     ]
    }
   ],
   "source": [
    "\n",
    "from sklearn.metrics import mean_squared_error\n",
    "MSE = mean_squared_error(y_test, predicted)\n",
    "print(\"MEAN SQUARE ERROR OF GRADIENT BOOSTING REGRESSOR ALGORITHEM\",MSE)\n"
   ]
  },
  {
   "cell_type": "code",
   "execution_count": 26,
   "id": "7952f923",
   "metadata": {},
   "outputs": [
    {
     "name": "stdout",
     "output_type": "stream",
     "text": [
      " ROOT MEAN SQUARE ERROR OF GRADIENT BOOSTING REGRESSOR ALGORITHEM 22.98447805280907\n"
     ]
    }
   ],
   "source": [
    "\n",
    "from sklearn.metrics import mean_squared_error\n",
    "RMSE = mean_squared_error(y_test, predicted, squared=False)\n",
    "print(\" ROOT MEAN SQUARE ERROR OF GRADIENT BOOSTING REGRESSOR ALGORITHEM\",RMSE)\n"
   ]
  },
  {
   "cell_type": "code",
   "execution_count": 27,
   "id": "1908570d",
   "metadata": {},
   "outputs": [
    {
     "name": "stdout",
     "output_type": "stream",
     "text": [
      "MEAN ABSOLUTE ERROR OF GRADIENT BOOSTING REGRESSOR ALGORITHEM 19.872419114826943\n"
     ]
    }
   ],
   "source": [
    "\n",
    "from sklearn.metrics import mean_absolute_error\n",
    "MAE = mean_absolute_error(y_test, predicted)\n",
    "print(\"MEAN ABSOLUTE ERROR OF GRADIENT BOOSTING REGRESSOR ALGORITHEM\",MAE)\n"
   ]
  },
  {
   "cell_type": "code",
   "execution_count": 28,
   "id": "6bbdde19",
   "metadata": {},
   "outputs": [
    {
     "name": "stdout",
     "output_type": "stream",
     "text": [
      "EXPLAINED VARIANCE SCORE OF GRADIENT BOOSTING REGRESSOR ALGORITHEM -0.002033132373730151\n"
     ]
    }
   ],
   "source": [
    "\n",
    "from sklearn.metrics import explained_variance_score\n",
    "EVS = explained_variance_score(y_test, predicted)\n",
    "print(\"EXPLAINED VARIANCE SCORE OF GRADIENT BOOSTING REGRESSOR ALGORITHEM\",EVS)\n"
   ]
  },
  {
   "cell_type": "code",
   "execution_count": 30,
   "id": "e42baf0c",
   "metadata": {},
   "outputs": [
    {
     "data": {
      "text/plain": [
       "['GB.pkl']"
      ]
     },
     "execution_count": 30,
     "metadata": {},
     "output_type": "execute_result"
    }
   ],
   "source": [
    "\n",
    "import joblib\n",
    "joblib.dump(best_pipeline, 'GB.pkl')\n"
   ]
  },
  {
   "cell_type": "code",
   "execution_count": null,
   "id": "80fc3d72",
   "metadata": {},
   "outputs": [],
   "source": []
  }
 ],
 "metadata": {
  "kernelspec": {
   "display_name": "Python 3 (ipykernel)",
   "language": "python",
   "name": "python3"
  },
  "language_info": {
   "codemirror_mode": {
    "name": "ipython",
    "version": 3
   },
   "file_extension": ".py",
   "mimetype": "text/x-python",
   "name": "python",
   "nbconvert_exporter": "python",
   "pygments_lexer": "ipython3",
   "version": "3.11.7"
  }
 },
 "nbformat": 4,
 "nbformat_minor": 5
}
