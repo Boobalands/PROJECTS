{
 "cells": [
  {
   "cell_type": "markdown",
   "id": "f23cd813",
   "metadata": {},
   "source": [
    "# EXTREME GRADIENT REGRESSOR ALGORITHEM"
   ]
  },
  {
   "cell_type": "code",
   "execution_count": 1,
   "id": "c7ac72fa",
   "metadata": {},
   "outputs": [],
   "source": [
    "import pandas as pd\n",
    "import numpy as np\n",
    "import matplotlib.pyplot as plt\n",
    "import seaborn as sns\n",
    "\n",
    "import warnings\n",
    "warnings.filterwarnings('ignore')"
   ]
  },
  {
   "cell_type": "code",
   "execution_count": 2,
   "id": "efecb829",
   "metadata": {},
   "outputs": [
    {
     "data": {
      "text/html": [
       "<div>\n",
       "<style scoped>\n",
       "    .dataframe tbody tr th:only-of-type {\n",
       "        vertical-align: middle;\n",
       "    }\n",
       "\n",
       "    .dataframe tbody tr th {\n",
       "        vertical-align: top;\n",
       "    }\n",
       "\n",
       "    .dataframe thead th {\n",
       "        text-align: right;\n",
       "    }\n",
       "</style>\n",
       "<table border=\"1\" class=\"dataframe\">\n",
       "  <thead>\n",
       "    <tr style=\"text-align: right;\">\n",
       "      <th></th>\n",
       "      <th>Age</th>\n",
       "      <th>Credit_Score</th>\n",
       "      <th>Account_Balence</th>\n",
       "      <th>Credit_Card_Holter</th>\n",
       "      <th>Dependents</th>\n",
       "      <th>Employment_Type</th>\n",
       "      <th>Applicant_Income</th>\n",
       "      <th>Coapplicant_Income</th>\n",
       "      <th>Loan_Status</th>\n",
       "      <th>Education_Status</th>\n",
       "      <th>Fidelity_Scores</th>\n",
       "    </tr>\n",
       "  </thead>\n",
       "  <tbody>\n",
       "    <tr>\n",
       "      <th>0</th>\n",
       "      <td>86</td>\n",
       "      <td>451</td>\n",
       "      <td>825749</td>\n",
       "      <td>1</td>\n",
       "      <td>1</td>\n",
       "      <td>Employed</td>\n",
       "      <td>128630</td>\n",
       "      <td>81915</td>\n",
       "      <td>0</td>\n",
       "      <td>Graduated</td>\n",
       "      <td>51</td>\n",
       "    </tr>\n",
       "    <tr>\n",
       "      <th>1</th>\n",
       "      <td>64</td>\n",
       "      <td>465</td>\n",
       "      <td>140667</td>\n",
       "      <td>0</td>\n",
       "      <td>0</td>\n",
       "      <td>Employed</td>\n",
       "      <td>75633</td>\n",
       "      <td>78479</td>\n",
       "      <td>1</td>\n",
       "      <td>Graduated</td>\n",
       "      <td>59</td>\n",
       "    </tr>\n",
       "    <tr>\n",
       "      <th>2</th>\n",
       "      <td>65</td>\n",
       "      <td>409</td>\n",
       "      <td>716824</td>\n",
       "      <td>0</td>\n",
       "      <td>2</td>\n",
       "      <td>Self_Employed</td>\n",
       "      <td>178202</td>\n",
       "      <td>174249</td>\n",
       "      <td>0</td>\n",
       "      <td>Non-Graduated</td>\n",
       "      <td>99</td>\n",
       "    </tr>\n",
       "    <tr>\n",
       "      <th>3</th>\n",
       "      <td>57</td>\n",
       "      <td>446</td>\n",
       "      <td>323539</td>\n",
       "      <td>0</td>\n",
       "      <td>2</td>\n",
       "      <td>Employed</td>\n",
       "      <td>180802</td>\n",
       "      <td>96209</td>\n",
       "      <td>1</td>\n",
       "      <td>Non-Graduated</td>\n",
       "      <td>28</td>\n",
       "    </tr>\n",
       "    <tr>\n",
       "      <th>4</th>\n",
       "      <td>67</td>\n",
       "      <td>475</td>\n",
       "      <td>973045</td>\n",
       "      <td>1</td>\n",
       "      <td>2</td>\n",
       "      <td>Employed</td>\n",
       "      <td>80110</td>\n",
       "      <td>25057</td>\n",
       "      <td>1</td>\n",
       "      <td>Non-Graduated</td>\n",
       "      <td>23</td>\n",
       "    </tr>\n",
       "  </tbody>\n",
       "</table>\n",
       "</div>"
      ],
      "text/plain": [
       "   Age  Credit_Score  Account_Balence  Credit_Card_Holter  Dependents  \\\n",
       "0   86           451           825749                   1           1   \n",
       "1   64           465           140667                   0           0   \n",
       "2   65           409           716824                   0           2   \n",
       "3   57           446           323539                   0           2   \n",
       "4   67           475           973045                   1           2   \n",
       "\n",
       "  Employment_Type  Applicant_Income  Coapplicant_Income  Loan_Status  \\\n",
       "0        Employed            128630               81915            0   \n",
       "1        Employed             75633               78479            1   \n",
       "2   Self_Employed            178202              174249            0   \n",
       "3        Employed            180802               96209            1   \n",
       "4        Employed             80110               25057            1   \n",
       "\n",
       "  Education_Status  Fidelity_Scores  \n",
       "0        Graduated               51  \n",
       "1        Graduated               59  \n",
       "2    Non-Graduated               99  \n",
       "3    Non-Graduated               28  \n",
       "4    Non-Graduated               23  "
      ]
     },
     "execution_count": 2,
     "metadata": {},
     "output_type": "execute_result"
    }
   ],
   "source": [
    "df=pd.read_csv('DATASET.csv')\n",
    "df.head()"
   ]
  },
  {
   "cell_type": "code",
   "execution_count": 3,
   "id": "7a0f30c1",
   "metadata": {},
   "outputs": [
    {
     "data": {
      "text/plain": [
       "Index(['Age', 'Credit_Score', 'Account_Balence', 'Credit_Card_Holter',\n",
       "       'Dependents', 'Employment_Type', 'Applicant_Income',\n",
       "       'Coapplicant_Income', 'Loan_Status', 'Education_Status',\n",
       "       'Fidelity_Scores'],\n",
       "      dtype='object')"
      ]
     },
     "execution_count": 3,
     "metadata": {},
     "output_type": "execute_result"
    }
   ],
   "source": [
    "df.columns"
   ]
  },
  {
   "cell_type": "code",
   "execution_count": 4,
   "id": "d785e357",
   "metadata": {},
   "outputs": [],
   "source": [
    "df=df.dropna()"
   ]
  },
  {
   "cell_type": "code",
   "execution_count": 5,
   "id": "713eb254",
   "metadata": {},
   "outputs": [
    {
     "data": {
      "text/html": [
       "<div>\n",
       "<style scoped>\n",
       "    .dataframe tbody tr th:only-of-type {\n",
       "        vertical-align: middle;\n",
       "    }\n",
       "\n",
       "    .dataframe tbody tr th {\n",
       "        vertical-align: top;\n",
       "    }\n",
       "\n",
       "    .dataframe thead th {\n",
       "        text-align: right;\n",
       "    }\n",
       "</style>\n",
       "<table border=\"1\" class=\"dataframe\">\n",
       "  <thead>\n",
       "    <tr style=\"text-align: right;\">\n",
       "      <th></th>\n",
       "      <th>Age</th>\n",
       "      <th>Credit_Score</th>\n",
       "      <th>Account_Balence</th>\n",
       "      <th>Credit_Card_Holter</th>\n",
       "      <th>Dependents</th>\n",
       "      <th>Employment_Type</th>\n",
       "      <th>Applicant_Income</th>\n",
       "      <th>Coapplicant_Income</th>\n",
       "      <th>Loan_Status</th>\n",
       "      <th>Education_Status</th>\n",
       "      <th>Fidelity_Scores</th>\n",
       "    </tr>\n",
       "  </thead>\n",
       "  <tbody>\n",
       "    <tr>\n",
       "      <th>0</th>\n",
       "      <td>86</td>\n",
       "      <td>451</td>\n",
       "      <td>825749</td>\n",
       "      <td>1</td>\n",
       "      <td>1</td>\n",
       "      <td>Employed</td>\n",
       "      <td>128630</td>\n",
       "      <td>81915</td>\n",
       "      <td>0</td>\n",
       "      <td>Graduated</td>\n",
       "      <td>51</td>\n",
       "    </tr>\n",
       "    <tr>\n",
       "      <th>1</th>\n",
       "      <td>64</td>\n",
       "      <td>465</td>\n",
       "      <td>140667</td>\n",
       "      <td>0</td>\n",
       "      <td>0</td>\n",
       "      <td>Employed</td>\n",
       "      <td>75633</td>\n",
       "      <td>78479</td>\n",
       "      <td>1</td>\n",
       "      <td>Graduated</td>\n",
       "      <td>59</td>\n",
       "    </tr>\n",
       "    <tr>\n",
       "      <th>2</th>\n",
       "      <td>65</td>\n",
       "      <td>409</td>\n",
       "      <td>716824</td>\n",
       "      <td>0</td>\n",
       "      <td>2</td>\n",
       "      <td>Self_Employed</td>\n",
       "      <td>178202</td>\n",
       "      <td>174249</td>\n",
       "      <td>0</td>\n",
       "      <td>Non-Graduated</td>\n",
       "      <td>99</td>\n",
       "    </tr>\n",
       "    <tr>\n",
       "      <th>3</th>\n",
       "      <td>57</td>\n",
       "      <td>446</td>\n",
       "      <td>323539</td>\n",
       "      <td>0</td>\n",
       "      <td>2</td>\n",
       "      <td>Employed</td>\n",
       "      <td>180802</td>\n",
       "      <td>96209</td>\n",
       "      <td>1</td>\n",
       "      <td>Non-Graduated</td>\n",
       "      <td>28</td>\n",
       "    </tr>\n",
       "    <tr>\n",
       "      <th>4</th>\n",
       "      <td>67</td>\n",
       "      <td>475</td>\n",
       "      <td>973045</td>\n",
       "      <td>1</td>\n",
       "      <td>2</td>\n",
       "      <td>Employed</td>\n",
       "      <td>80110</td>\n",
       "      <td>25057</td>\n",
       "      <td>1</td>\n",
       "      <td>Non-Graduated</td>\n",
       "      <td>23</td>\n",
       "    </tr>\n",
       "  </tbody>\n",
       "</table>\n",
       "</div>"
      ],
      "text/plain": [
       "   Age  Credit_Score  Account_Balence  Credit_Card_Holter  Dependents  \\\n",
       "0   86           451           825749                   1           1   \n",
       "1   64           465           140667                   0           0   \n",
       "2   65           409           716824                   0           2   \n",
       "3   57           446           323539                   0           2   \n",
       "4   67           475           973045                   1           2   \n",
       "\n",
       "  Employment_Type  Applicant_Income  Coapplicant_Income  Loan_Status  \\\n",
       "0        Employed            128630               81915            0   \n",
       "1        Employed             75633               78479            1   \n",
       "2   Self_Employed            178202              174249            0   \n",
       "3        Employed            180802               96209            1   \n",
       "4        Employed             80110               25057            1   \n",
       "\n",
       "  Education_Status  Fidelity_Scores  \n",
       "0        Graduated               51  \n",
       "1        Graduated               59  \n",
       "2    Non-Graduated               99  \n",
       "3    Non-Graduated               28  \n",
       "4    Non-Graduated               23  "
      ]
     },
     "execution_count": 5,
     "metadata": {},
     "output_type": "execute_result"
    }
   ],
   "source": [
    "df.head()"
   ]
  },
  {
   "cell_type": "code",
   "execution_count": 6,
   "id": "ef05a838-22ac-4278-aeaf-d852189a4534",
   "metadata": {},
   "outputs": [],
   "source": [
    "from sklearn.preprocessing import LabelEncoder\n",
    "le = LabelEncoder()\n",
    "\n",
    "var = ['Employment_Type','Education_Status']\n",
    "  \n",
    "for i in var:\n",
    "    df[i] = le.fit_transform(df[i]).astype(int)"
   ]
  },
  {
   "cell_type": "code",
   "execution_count": 7,
   "id": "3f36a6e4",
   "metadata": {},
   "outputs": [],
   "source": [
    "x = df.drop(labels='Fidelity_Scores', axis=1)\n",
    "y = df.loc[:,'Fidelity_Scores']"
   ]
  },
  {
   "cell_type": "code",
   "execution_count": 8,
   "id": "4bb6edac",
   "metadata": {},
   "outputs": [
    {
     "name": "stdout",
     "output_type": "stream",
     "text": [
      "NUMBER OF TRAIN DATASET    :  16000\n",
      "NUMBER OF TEST DATASET      :  4000\n",
      "TOTAL NUMBER OF DATASET    :  20000\n"
     ]
    }
   ],
   "source": [
    "from sklearn.model_selection import train_test_split\n",
    "x_train, x_test, y_train, y_test = train_test_split(x, y, test_size=0.2)\n",
    "print(\"NUMBER OF TRAIN DATASET    : \", len(x_train))\n",
    "print(\"NUMBER OF TEST DATASET      : \", len(x_test))\n",
    "print(\"TOTAL NUMBER OF DATASET    : \", len(x_train)+len(x_test))"
   ]
  },
  {
   "cell_type": "code",
   "execution_count": 9,
   "id": "cbb02177",
   "metadata": {},
   "outputs": [
    {
     "name": "stdout",
     "output_type": "stream",
     "text": [
      "NUMBER OF TRAIN DATASET    :  16000\n",
      "NUMBER OF TEST DATASET      :  4000\n",
      "TOTAL NUMBER OF DATASET    :  20000\n"
     ]
    }
   ],
   "source": [
    "print(\"NUMBER OF TRAIN DATASET    : \", len(y_train))\n",
    "print(\"NUMBER OF TEST DATASET      : \", len(y_test))\n",
    "print(\"TOTAL NUMBER OF DATASET    : \", len(y_train)+len(y_test))"
   ]
  },
  {
   "cell_type": "code",
   "execution_count": 10,
   "id": "1fa5db0a",
   "metadata": {},
   "outputs": [],
   "source": [
    "from xgboost import XGBRegressor"
   ]
  },
  {
   "cell_type": "code",
   "execution_count": 11,
   "id": "13c940ce",
   "metadata": {
    "scrolled": true
   },
   "outputs": [
    {
     "name": "stdout",
     "output_type": "stream",
     "text": [
      "[10:40:11] WARNING: C:/Jenkins/workspace/xgboost-win64_release_0.90/src/objective/regression_obj.cu:152: reg:linear is now deprecated in favor of reg:squarederror.\n"
     ]
    },
    {
     "data": {
      "text/html": [
       "<style>#sk-container-id-1 {color: black;background-color: white;}#sk-container-id-1 pre{padding: 0;}#sk-container-id-1 div.sk-toggleable {background-color: white;}#sk-container-id-1 label.sk-toggleable__label {cursor: pointer;display: block;width: 100%;margin-bottom: 0;padding: 0.3em;box-sizing: border-box;text-align: center;}#sk-container-id-1 label.sk-toggleable__label-arrow:before {content: \"▸\";float: left;margin-right: 0.25em;color: #696969;}#sk-container-id-1 label.sk-toggleable__label-arrow:hover:before {color: black;}#sk-container-id-1 div.sk-estimator:hover label.sk-toggleable__label-arrow:before {color: black;}#sk-container-id-1 div.sk-toggleable__content {max-height: 0;max-width: 0;overflow: hidden;text-align: left;background-color: #f0f8ff;}#sk-container-id-1 div.sk-toggleable__content pre {margin: 0.2em;color: black;border-radius: 0.25em;background-color: #f0f8ff;}#sk-container-id-1 input.sk-toggleable__control:checked~div.sk-toggleable__content {max-height: 200px;max-width: 100%;overflow: auto;}#sk-container-id-1 input.sk-toggleable__control:checked~label.sk-toggleable__label-arrow:before {content: \"▾\";}#sk-container-id-1 div.sk-estimator input.sk-toggleable__control:checked~label.sk-toggleable__label {background-color: #d4ebff;}#sk-container-id-1 div.sk-label input.sk-toggleable__control:checked~label.sk-toggleable__label {background-color: #d4ebff;}#sk-container-id-1 input.sk-hidden--visually {border: 0;clip: rect(1px 1px 1px 1px);clip: rect(1px, 1px, 1px, 1px);height: 1px;margin: -1px;overflow: hidden;padding: 0;position: absolute;width: 1px;}#sk-container-id-1 div.sk-estimator {font-family: monospace;background-color: #f0f8ff;border: 1px dotted black;border-radius: 0.25em;box-sizing: border-box;margin-bottom: 0.5em;}#sk-container-id-1 div.sk-estimator:hover {background-color: #d4ebff;}#sk-container-id-1 div.sk-parallel-item::after {content: \"\";width: 100%;border-bottom: 1px solid gray;flex-grow: 1;}#sk-container-id-1 div.sk-label:hover label.sk-toggleable__label {background-color: #d4ebff;}#sk-container-id-1 div.sk-serial::before {content: \"\";position: absolute;border-left: 1px solid gray;box-sizing: border-box;top: 0;bottom: 0;left: 50%;z-index: 0;}#sk-container-id-1 div.sk-serial {display: flex;flex-direction: column;align-items: center;background-color: white;padding-right: 0.2em;padding-left: 0.2em;position: relative;}#sk-container-id-1 div.sk-item {position: relative;z-index: 1;}#sk-container-id-1 div.sk-parallel {display: flex;align-items: stretch;justify-content: center;background-color: white;position: relative;}#sk-container-id-1 div.sk-item::before, #sk-container-id-1 div.sk-parallel-item::before {content: \"\";position: absolute;border-left: 1px solid gray;box-sizing: border-box;top: 0;bottom: 0;left: 50%;z-index: -1;}#sk-container-id-1 div.sk-parallel-item {display: flex;flex-direction: column;z-index: 1;position: relative;background-color: white;}#sk-container-id-1 div.sk-parallel-item:first-child::after {align-self: flex-end;width: 50%;}#sk-container-id-1 div.sk-parallel-item:last-child::after {align-self: flex-start;width: 50%;}#sk-container-id-1 div.sk-parallel-item:only-child::after {width: 0;}#sk-container-id-1 div.sk-dashed-wrapped {border: 1px dashed gray;margin: 0 0.4em 0.5em 0.4em;box-sizing: border-box;padding-bottom: 0.4em;background-color: white;}#sk-container-id-1 div.sk-label label {font-family: monospace;font-weight: bold;display: inline-block;line-height: 1.2em;}#sk-container-id-1 div.sk-label-container {text-align: center;}#sk-container-id-1 div.sk-container {/* jupyter's `normalize.less` sets `[hidden] { display: none; }` but bootstrap.min.css set `[hidden] { display: none !important; }` so we also need the `!important` here to be able to override the default hidden behavior on the sphinx rendered scikit-learn.org. See: https://github.com/scikit-learn/scikit-learn/issues/21755 */display: inline-block !important;position: relative;}#sk-container-id-1 div.sk-text-repr-fallback {display: none;}</style><div id=\"sk-container-id-1\" class=\"sk-top-container\"><div class=\"sk-text-repr-fallback\"><pre>XGBRegressor()</pre><b>In a Jupyter environment, please rerun this cell to show the HTML representation or trust the notebook. <br />On GitHub, the HTML representation is unable to render, please try loading this page with nbviewer.org.</b></div><div class=\"sk-container\" hidden><div class=\"sk-item\"><div class=\"sk-estimator sk-toggleable\"><input class=\"sk-toggleable__control sk-hidden--visually\" id=\"sk-estimator-id-1\" type=\"checkbox\" checked><label for=\"sk-estimator-id-1\" class=\"sk-toggleable__label sk-toggleable__label-arrow\">XGBRegressor</label><div class=\"sk-toggleable__content\"><pre>XGBRegressor()</pre></div></div></div></div></div>"
      ],
      "text/plain": [
       "XGBRegressor()"
      ]
     },
     "execution_count": 11,
     "metadata": {},
     "output_type": "execute_result"
    }
   ],
   "source": [
    "xgb = XGBRegressor()\n",
    "xgb.fit(x_train,y_train)"
   ]
  },
  {
   "cell_type": "code",
   "execution_count": 12,
   "id": "4a749cc7",
   "metadata": {},
   "outputs": [],
   "source": [
    "predicted = xgb.predict(x_test)"
   ]
  },
  {
   "cell_type": "code",
   "execution_count": 13,
   "id": "7c57be8c",
   "metadata": {},
   "outputs": [
    {
     "name": "stdout",
     "output_type": "stream",
     "text": [
      "MEAN RAND SCOORE OF EXTREME GRADIENT REGRESSOR ALGORITHEM 98.7627281820455\n"
     ]
    }
   ],
   "source": [
    "from sklearn.metrics import rand_score\n",
    "RS = rand_score(y_test, predicted)\n",
    "print(\"MEAN RAND SCOORE OF EXTREME GRADIENT REGRESSOR ALGORITHEM\",RS*100)"
   ]
  },
  {
   "cell_type": "code",
   "execution_count": 14,
   "id": "9f7a0bf9",
   "metadata": {},
   "outputs": [
    {
     "name": "stdout",
     "output_type": "stream",
     "text": [
      "MEAN R2 SCOORE OF EXTREME GRADIENT REGRESSOR ALGORITHEM -0.5059112283036127\n"
     ]
    }
   ],
   "source": [
    "from sklearn.metrics import r2_score\n",
    "R2 = r2_score(y_test, predicted)\n",
    "print(\"MEAN R2 SCOORE OF EXTREME GRADIENT REGRESSOR ALGORITHEM\",R2*100)"
   ]
  },
  {
   "cell_type": "code",
   "execution_count": 15,
   "id": "b09c5365",
   "metadata": {},
   "outputs": [
    {
     "name": "stdout",
     "output_type": "stream",
     "text": [
      "MEAN SQUARE ERROR OF EXTREME GRADIENT REGRESSOR ALGORITHEM 541.8181286771597\n"
     ]
    }
   ],
   "source": [
    "from sklearn.metrics import mean_squared_error\n",
    "MSE = mean_squared_error(y_test, predicted)\n",
    "print(\"MEAN SQUARE ERROR OF EXTREME GRADIENT REGRESSOR ALGORITHEM\",MSE)"
   ]
  },
  {
   "cell_type": "code",
   "execution_count": 16,
   "id": "7952f923",
   "metadata": {},
   "outputs": [
    {
     "name": "stdout",
     "output_type": "stream",
     "text": [
      " ROOT MEAN SQUARE ERROR OF EXTREME GRADIENT REGRESSOR ALGORITHEM 23.276987104802885\n"
     ]
    }
   ],
   "source": [
    "from sklearn.metrics import mean_squared_error\n",
    "RMSE = mean_squared_error(y_test, predicted, squared=False)\n",
    "print(\" ROOT MEAN SQUARE ERROR OF EXTREME GRADIENT REGRESSOR ALGORITHEM\",RMSE)"
   ]
  },
  {
   "cell_type": "code",
   "execution_count": 17,
   "id": "1908570d",
   "metadata": {},
   "outputs": [
    {
     "name": "stdout",
     "output_type": "stream",
     "text": [
      "MEAN ABSOLUTE ERROR OF EXTREME GRADIENT REGRESSOR ALGORITHEM 20.075546250343322\n"
     ]
    }
   ],
   "source": [
    "from sklearn.metrics import mean_absolute_error\n",
    "MAE = mean_absolute_error(y_test, predicted)\n",
    "print(\"MEAN ABSOLUTE ERROR OF EXTREME GRADIENT REGRESSOR ALGORITHEM\",MAE)"
   ]
  },
  {
   "cell_type": "code",
   "execution_count": 18,
   "id": "6bbdde19",
   "metadata": {},
   "outputs": [
    {
     "name": "stdout",
     "output_type": "stream",
     "text": [
      "EXPLAINED VARIANCE SCORE OF EXTREME GRADIENT REGRESSOR ALGORITHEM -0.00400829581174067\n"
     ]
    }
   ],
   "source": [
    "from sklearn.metrics import explained_variance_score\n",
    "EVS = explained_variance_score(y_test, predicted)\n",
    "print(\"EXPLAINED VARIANCE SCORE OF EXTREME GRADIENT REGRESSOR ALGORITHEM\",EVS)"
   ]
  },
  {
   "cell_type": "code",
   "execution_count": 20,
   "id": "e42baf0c",
   "metadata": {},
   "outputs": [
    {
     "data": {
      "text/plain": [
       "['XGB.pkl']"
      ]
     },
     "execution_count": 20,
     "metadata": {},
     "output_type": "execute_result"
    }
   ],
   "source": [
    "import joblib\n",
    "joblib.dump(xgb, 'XGB.pkl')"
   ]
  },
  {
   "cell_type": "code",
   "execution_count": null,
   "id": "80fc3d72",
   "metadata": {},
   "outputs": [],
   "source": []
  },
  {
   "cell_type": "code",
   "execution_count": null,
   "id": "004bf77e",
   "metadata": {},
   "outputs": [],
   "source": []
  }
 ],
 "metadata": {
  "kernelspec": {
   "display_name": "Python 3 (ipykernel)",
   "language": "python",
   "name": "python3"
  },
  "language_info": {
   "codemirror_mode": {
    "name": "ipython",
    "version": 3
   },
   "file_extension": ".py",
   "mimetype": "text/x-python",
   "name": "python",
   "nbconvert_exporter": "python",
   "pygments_lexer": "ipython3",
   "version": "3.11.7"
  }
 },
 "nbformat": 4,
 "nbformat_minor": 5
}
